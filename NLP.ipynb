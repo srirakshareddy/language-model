{
  "nbformat": 4,
  "nbformat_minor": 0,
  "metadata": {
    "colab": {
      "provenance": [],
      "include_colab_link": true
    },
    "kernelspec": {
      "name": "python3",
      "display_name": "Python 3"
    }
  },
  "cells": [
    {
      "cell_type": "markdown",
      "metadata": {
        "id": "view-in-github",
        "colab_type": "text"
      },
      "source": [
        "<a href=\"https://colab.research.google.com/github/srirakshareddy/language-model/blob/main/NLP.ipynb\" target=\"_parent\"><img src=\"https://colab.research.google.com/assets/colab-badge.svg\" alt=\"Open In Colab\"/></a>"
      ]
    },
    {
      "cell_type": "code",
      "source": [
        "from google.colab import drive\n",
        "drive.mount('/content/drive')"
      ],
      "metadata": {
        "colab": {
          "base_uri": "https://localhost:8080/"
        },
        "id": "kA79cXhA-pK0",
        "outputId": "f9884842-8b50-4216-f5a5-aa587fcfdaec"
      },
      "execution_count": null,
      "outputs": [
        {
          "output_type": "stream",
          "name": "stdout",
          "text": [
            "Mounted at /content/drive\n"
          ]
        }
      ]
    },
    {
      "cell_type": "markdown",
      "metadata": {
        "id": "gPv_JEf8ZvIb"
      },
      "source": [
        "### Data preprocessing\n",
        "\n",
        "In this section we will write code to load data and clean (tokenize) it."
      ]
    },
    {
      "cell_type": "code",
      "metadata": {
        "id": "T2apYXiYZxog",
        "colab": {
          "base_uri": "https://localhost:8080/"
        },
        "outputId": "92ee9b89-b167-4737-bca2-03707279f921"
      },
      "source": [
        "# Import libraries for preprocessing\n",
        "import os\n",
        "import numpy as np\n",
        "import nltk\n",
        "nltk.download('punkt')"
      ],
      "execution_count": null,
      "outputs": [
        {
          "output_type": "stream",
          "name": "stdout",
          "text": [
            "[nltk_data] Downloading package punkt to /root/nltk_data...\n",
            "[nltk_data]   Unzipping tokenizers/punkt.zip.\n"
          ]
        },
        {
          "output_type": "execute_result",
          "data": {
            "text/plain": [
              "True"
            ]
          },
          "metadata": {},
          "execution_count": 2
        }
      ]
    },
    {
      "cell_type": "markdown",
      "metadata": {
        "id": "ukW4E7MfgZtX"
      },
      "source": [
        "[Natural Language Toolkit](https://www.nltk.org/)\n",
        "\n",
        "NLTK is a leading platform for building Python programs to work with human language data. It provides easy-to-use interfaces to over 50 corpora and lexical resources such as WordNet, along with a suite of text processing libraries for classification, tokenization, stemming, tagging, parsing, and semantic reasoning, wrappers for industrial-strength NLP libraries, and an active discussion forum."
      ]
    },
    {
      "cell_type": "code",
      "metadata": {
        "id": "naV4YPZvZ3JO"
      },
      "source": [
        "# Tokenizer class\n",
        "\n",
        "\n",
        "class Tokenizer:\n",
        "  def __init__(self, tokenize_type='basic', lowercase=False):\n",
        "    self.lowercase = lowercase  # If this is True, convert text to lowercase while tokenizing.\n",
        "    self.type = tokenize_type\n",
        "    self.vocab = []\n",
        "    \n",
        "\n",
        "  \"\"\"This simple tokenizer splits the text using whitespace.\"\"\"\n",
        "  def basicTokenize(self, string):\n",
        "    words = string.split()\n",
        "    return words\n",
        "\n",
        "  ## NLTK's word_tokenize() function. ###\n",
        "  ### returns also a list of words similar to basicTokenize function\n",
        "  def nltkTokenize(self, string):\n",
        "\n",
        "     words = nltk.tokenize.word_tokenize(string)\n",
        "     return words\n",
        "    \n",
        "\n",
        "  def tokenize(self, string):\n",
        "    if self.lowercase:\n",
        "      string = string.lower()\n",
        "    if self.type == 'basic':\n",
        "      tokens = self.basicTokenize(string)\n",
        "    elif self.type == 'nltk':\n",
        "      tokens = self.nltkTokenize(string)\n",
        "    else:\n",
        "      raise ValueError('Unknown tokenization type.')    \n",
        "\n",
        "\n",
        "    # Populate vocabulary\n",
        "    self.vocab += [w for w in set(tokens) if w not in self.vocab]\n",
        "\n",
        "    return tokens\n",
        "\n",
        "  ### Fill in this function to return the top k words in the corpus and their corresponding frequencies. \n",
        "  ### Top k are sorted in the corpus according to frequency. ###\n",
        "  ### return a list\n",
        "  def countTopWords(self, words, k):\n",
        "\n",
        "    word_counter = {}\n",
        "    for word in words:\n",
        "      if word in word_counter:\n",
        "        word_counter[word] += 1\n",
        "      else:\n",
        "        word_counter[word] = 1\n",
        "    \n",
        "    top_counter = sorted(word_counter, key = word_counter.get, reverse = True)\n",
        "    top_k = top_counter[:k]\n",
        "    return top_k\n",
        "\n",
        "    "
      ],
      "execution_count": null,
      "outputs": []
    },
    {
      "cell_type": "code",
      "metadata": {
        "id": "4qxQp2VJaZhq"
      },
      "source": [
        "# Function for reading the corpus\n",
        "def readCorpus(filename, tokenizer):  \n",
        "  with open(filename) as f:\n",
        "    words = tokenizer.tokenize(f.read())\n",
        "  return words"
      ],
      "execution_count": null,
      "outputs": []
    },
    {
      "cell_type": "markdown",
      "metadata": {
        "id": "tXYBlcTyagBQ"
      },
      "source": [
        "### Language Modeling and Smoothing\n",
        "In this section we will first compute the bigram counts and estimate bigram probabilities. We will then implement Laplace add-alpha (also called add-k) smoothing to modify the probabilities. In class we have seen a special case of add-alpha smoothing which is the add-1 smoothing where alpha is equal to 1 ($\\alpha = 1$). In this assignment we will try different values of alpha for smoothing.\n",
        "Estimating a bigram conditional probabilty of the next word $w_n$ given the prefix word $w_{n-1}$ using add-alpha smoothing is expressed as follows:\n",
        "\n",
        "\n",
        "\n",
        "<h1><center>$\\hat{P}_{add-\\alpha}(w_n|w_{n-1}) = \\frac{C(w_{n-1}w_n)+\\alpha}{C(w_{n-1})+\\alpha|V|}$</center></h1>\n"
      ]
    },
    {
      "cell_type": "code",
      "metadata": {
        "id": "K47R17s-ao6k"
      },
      "source": [
        "# Import libraries\n",
        "# Feel free to import as many as you like\n",
        "import sys\n",
        "import os\n",
        "import numpy as np\n",
        "import argparse\n",
        "from tqdm import tqdm\n",
        "from collections import Counter"
      ],
      "execution_count": null,
      "outputs": []
    },
    {
      "cell_type": "code",
      "metadata": {
        "id": "BK7uqvcEa49P"
      },
      "source": [
        "# Class definition for language modeling\n",
        "\n",
        "class LanguageModel:\n",
        "  def __init__(self, vocab, n=2, smoothing=None, smoothing_param=None):\n",
        "    assert n >=2, \"This code does not allow you to train unigram models.\"\n",
        "    self.vocab = vocab\n",
        "    self.token_to_idx = {word: i for i, word in enumerate(self.vocab)}\n",
        "    self.n = n\n",
        "    self.smoothing = smoothing    \n",
        "    self.smoothing_param = smoothing_param\n",
        "    self.x = None      # Holds the bigram counts\n",
        "    self.bi_prob = None        # Holds the computed bigram probabilities.\n",
        "\n",
        "    assert smoothing is None or smoothing_param is not None, \"Forgot to specify a smoothing parameter?\"\n",
        "\n",
        "\n",
        "  \"\"\"Compute basic bigram probabilities (without any smoothing)\"\"\"\n",
        "  def computeBigramProb(self):\n",
        "    self.bi_prob = self.bi_counts.copy()\n",
        "\n",
        "    for i, _ in enumerate(tqdm(self.bi_prob, desc=\"Estimating bigram probabilities\")):\n",
        "      cnt = np.sum(self.bi_prob[i])\n",
        "      if cnt > 0:\n",
        "        self.bi_prob[i] /= cnt\n",
        "        \n",
        "  ### Compute bigram probabilities with Add-alpha smoothing###\n",
        "  ### You can follow the same structure of the above function computeBigramProb(self)\n",
        "  ### For an efficient implementation try to vectorize as much as possible and avoid nested for loops\n",
        "  ### Not necessary to return something here \n",
        "  def computeBigramProbAddAlpha(self, alpha=0.001):\n",
        "\n",
        "    self.bi_prob = self.bi_counts.copy()\n",
        "\n",
        "    for i, _ in enumerate(tqdm(self.bi_prob, desc=\"Estimating bigram probabilities\")):\n",
        "      cnt = np.sum(self.bi_prob[i])\n",
        "      denominator = np.add(cnt, alpha * len(self.vocab))\n",
        "      numerator = np.add(self.bi_prob[i], alpha)\n",
        "      self.bi_prob[i] = numerator/denominator\n",
        "\n",
        "\n",
        "\n",
        "  \"\"\"Train a basic n-gram language model\"\"\"\n",
        "  def train(self, corpus):\n",
        "    if self.n==2:\n",
        "      self.bi_counts = np.zeros((len(self.vocab), len(self.vocab)), dtype=float)\n",
        "    else:\n",
        "      raise ValueError(\"Only bigram model has been implemented so far.\")\n",
        "    \n",
        "    # Convert to token indices.\n",
        "    corpus = [self.token_to_idx[w] for w in corpus]\n",
        "\n",
        "    # Gather counts\n",
        "    for i, idx in enumerate(tqdm(corpus[:1-self.n], desc=\"Counting\")):\n",
        "      self.bi_counts[idx][corpus[i+1]] += 1\n",
        "\n",
        "    # Pre-compute the probabilities.\n",
        "    if not self.smoothing:\n",
        "      self.computeBigramProb()\n",
        "    elif self.smoothing == 'addAlpha':\n",
        "      self.computeBigramProbAddAlpha(self.smoothing_param)\n",
        "    else:\n",
        "      raise ValueError(\"Unknown smoothing type.\")\n",
        "\n",
        "\n",
        "\n",
        "  def test(self, corpus):\n",
        "    \n",
        "    logprob = 0.\n",
        "\n",
        "    # Convert to token indices.\n",
        "    corpus = [self.token_to_idx[w] for w in corpus]\n",
        "\n",
        "    for i, idx in enumerate(tqdm(corpus[:1-self.n], desc=\"Evaluating\")):\n",
        "      logprob += np.log(self.bi_prob[idx, corpus[i+1]])\n",
        "\n",
        "    logprob /= len(corpus[:1-self.n])\n",
        "\n",
        "    # Compute perplexity\n",
        "    ppl = np.exp(-logprob)\n",
        "\n",
        "    return ppl"
      ],
      "execution_count": null,
      "outputs": []
    },
    {
      "cell_type": "markdown",
      "metadata": {
        "id": "fkIAhWqYeUgL"
      },
      "source": [
        "### Instantiate a tokenizer and LM, and calculate perplexity\n",
        "This section contains driver code for learning a language model and evaluating it on a train and dev corpus."
      ]
    },
    {
      "cell_type": "code",
      "metadata": {
        "id": "nILv3Tyleb54"
      },
      "source": [
        "def runLanguageModel(train_corpus,\n",
        "                     val_corpus,\n",
        "                     train_fraction,\n",
        "                     tokenizer,\n",
        "                     smoothing_type=None,\n",
        "                     smoothing_param='0.0'):\n",
        "\n",
        "  # Instantiate the language model.\n",
        "  lm = LanguageModel(tokenizer.vocab, n=2, smoothing=smoothing_type, smoothing_param=smoothing_param)\n",
        "\n",
        "  # Figure out index for a specific percentage of train corpus to use. \n",
        "  train_idx = int(train_fraction * len(train_corpus))\n",
        "\n",
        "  lm.train(train_corpus[:train_idx])\n",
        "\n",
        "  train_ppl = lm.test(train_corpus[:train_idx])\n",
        "  val_ppl = lm.test(val_corpus)\n",
        "\n",
        "  print(\"Train perplexity: %f, Val Perplexity: %f\" %(train_ppl, val_ppl))\n",
        "\n",
        "  return [train_ppl, val_ppl]"
      ],
      "execution_count": null,
      "outputs": []
    },
    {
      "cell_type": "markdown",
      "metadata": {
        "id": "M8hSR_9VczRI"
      },
      "source": [
        "### Load the data"
      ]
    },
    {
      "cell_type": "code",
      "metadata": {
        "id": "HiATPjKWB5X9",
        "colab": {
          "base_uri": "https://localhost:8080/"
        },
        "outputId": "bd44465e-9255-4d9a-c962-e6c0f7bf5580"
      },
      "source": [
        "#Mount drive to access files in gdrive\n",
        "from google.colab import drive\n",
        "drive.mount('/content/gdrive', force_remount=True)"
      ],
      "execution_count": null,
      "outputs": [
        {
          "output_type": "stream",
          "name": "stdout",
          "text": [
            "Mounted at /content/gdrive\n"
          ]
        }
      ]
    },
    {
      "cell_type": "code",
      "metadata": {
        "id": "syUH84NUc1rL"
      },
      "source": [
        "#YOU NEED TO CHANGE PATH OF train_file AND val_file ACCORDING TO WHERE YOU STORE THEM IN YOUR gdrive.\n",
        "\n",
        "\n",
        "train_file = '/content/brown-train.txt'\n",
        "\n",
        "val_file = '/content/brown-val.txt'\n",
        "\n",
        "# Instantiate a basic tokenizer\n",
        "basic_tokenizer = Tokenizer(tokenize_type='basic', lowercase=True)\n",
        "\n",
        "# Read the corpus and store\n",
        "train_corpus = readCorpus(train_file, basic_tokenizer)\n",
        "val_corpus = readCorpus(val_file, basic_tokenizer)\n",
        "\n",
        "# Instantiate nltk tokenizer\n",
        "nltk_tokenizer = Tokenizer(tokenize_type='nltk', lowercase=True)\n",
        "\n",
        "# Read the corpus and store\n",
        "train_corpus_nltk = readCorpus(train_file, nltk_tokenizer)\n",
        "val_corpus_nltk = readCorpus(val_file, nltk_tokenizer)"
      ],
      "execution_count": null,
      "outputs": []
    },
    {
      "cell_type": "markdown",
      "metadata": {
        "id": "lrTFdG6WJnDO"
      },
      "source": [
        "#### Part of the code for sub-part (a)\n",
        "Print top 10 most frequent words"
      ]
    },
    {
      "cell_type": "code",
      "metadata": {
        "id": "n0UzPXzve2q_",
        "colab": {
          "base_uri": "https://localhost:8080/"
        },
        "outputId": "9f729b91-c6e3-4226-e3de-2f49a60c7439"
      },
      "source": [
        "### Print the top 10 words in the corpus both when using a basic tokenizer and when using nltk tokenizer \n",
        "### IMPORTANT: complete the function countTopWords within the Tokenizer class first.\n",
        "### Use a similar syntax to this: print(\"Top 10 words basic: %s\" % TO FILL)\n",
        "\n",
        "#nltk tokenizer\n",
        "print(\"Top 10 words nltk:\")\n",
        "print(nltk_tokenizer.countTopWords(val_corpus_nltk,10))\n",
        "print(\"------------------------------------------------\")\n",
        "# basic tokenizer\n",
        "print(\"Top 10 words basic:\")\n",
        "print(basic_tokenizer.countTopWords(val_corpus,10))\n"
      ],
      "execution_count": null,
      "outputs": [
        {
          "output_type": "stream",
          "name": "stdout",
          "text": [
            "Top 10 words nltk:\n",
            "['unk', 'the', 'of', ',', '.', 'and', 'to', 'in', 'a', 'is']\n",
            "------------------------------------------------\n",
            "Top 10 words basic:\n",
            "['unk', 'the', 'of', 'and', 'to', 'in', 'a', 'is', 'that', 'was']\n"
          ]
        }
      ]
    },
    {
      "cell_type": "markdown",
      "metadata": {
        "id": "GtrPOKd1vvyx"
      },
      "source": [
        "### Experiments"
      ]
    },
    {
      "cell_type": "markdown",
      "metadata": {
        "id": "anwiyViHMCTt"
      },
      "source": [
        "#### Plot the frequency of words\n",
        "Code for sub-part (b)\n",
        "\n",
        "Using the nltkTokenize function you wrote, make a plot of the frequencies of words in the training corpus, ordered by their rank, i.e. the most frequent word first, the second most word next, and so on on the x axis."
      ]
    },
    {
      "cell_type": "code",
      "metadata": {
        "id": "A1xEdVHxMl0n",
        "colab": {
          "base_uri": "https://localhost:8080/",
          "height": 229
        },
        "outputId": "2162aae8-5f07-4e04-fc01-f0b86b1768e4"
      },
      "source": [
        "import matplotlib.pyplot as plt\n",
        "### Code for plotting the frequency of words\n",
        "\n",
        "tokenized_words = []\n",
        "for word in train_corpus_nltk:\n",
        "  tokenized_words.append(nltk_tokenizer.nltkTokenize(word))\n",
        "\n",
        "freq = {}\n",
        "\n",
        "for word in tokenized_words:\n",
        "  if word[0] not in freq:\n",
        "    freq[word[0]] = 1\n",
        "  else:\n",
        "    freq[word[0]] += 1\n",
        "\n",
        "word_ranks = sorted(freq.items(), key=lambda freq: freq[1], reverse=True)\n",
        "\n",
        "word_ranks = word_ranks[:50]\n",
        "\n",
        "plt.rcParams[\"figure.figsize\"] = (20,5)\n",
        "fig = plt.figure()\n",
        "ax = fig.add_axes([0,0,1,1])\n",
        "freqs = []\n",
        "values = []\n",
        "\n",
        "for idx,value in enumerate(word_ranks):\n",
        "  freqs.append(value[0])\n",
        "  values.append(value[1])\n",
        "\n",
        "ax.bar(freqs,values)\n",
        "plt.show()\n"
      ],
      "execution_count": null,
      "outputs": [
        {
          "output_type": "display_data",
          "data": {
            "image/png": "[encoded data removed]",
            "text/plain": [
              "<Figure size 1440x360 with 1 Axes>"
            ]
          },
          "metadata": {
            "needs_background": "light"
          }
        }
      ]
    },
    {
      "cell_type": "markdown",
      "metadata": {
        "id": "DAWeJQ8VdBHU"
      },
      "source": [
        "#### Report the train and test perplexity after learning the language model\n",
        "Code for sub-part (c)\n",
        "\n",
        "Use the basicTokenize function and bigram language model ($n = 2$) without smoothing for this question.\n",
        "\n",
        "Train the language model and report its perplexity on the train and validation sets. "
      ]
    },
    {
      "cell_type": "code",
      "metadata": {
        "id": "xH79REFCcNRH",
        "colab": {
          "base_uri": "https://localhost:8080/"
        },
        "outputId": "40f3968d-e3e3-48b0-bae9-bcec6b2cb4e5"
      },
      "source": [
        "### Train bigram language model on the whole train corpus (train fraction = 1) and evaluate perplexity on both the training and the validation corpus  \n",
        "\n",
        "runLanguageModel(train_corpus_nltk, val_corpus_nltk, train_fraction = 1, tokenizer = nltk_tokenizer, smoothing_type=None, smoothing_param='0.0')\n"
      ],
      "execution_count": null,
      "outputs": [
        {
          "output_type": "stream",
          "name": "stderr",
          "text": [
            "Counting: 100%|██████████| 700042/700042 [00:00<00:00, 846637.06it/s]\n",
            "Estimating bigram probabilities: 100%|██████████| 14880/14880 [00:00<00:00, 28581.10it/s]\n",
            "Evaluating: 100%|██████████| 700042/700042 [00:01<00:00, 449541.31it/s]\n",
            "Evaluating:   0%|          | 0/175232 [00:00<?, ?it/s]/usr/local/lib/python3.7/dist-packages/ipykernel_launcher.py:75: RuntimeWarning: divide by zero encountered in log\n",
            "Evaluating: 100%|██████████| 175232/175232 [00:00<00:00, 351726.06it/s]\n"
          ]
        },
        {
          "output_type": "stream",
          "name": "stdout",
          "text": [
            "Train perplexity: 70.348557, Val Perplexity: inf\n"
          ]
        },
        {
          "output_type": "execute_result",
          "data": {
            "text/plain": [
              "[70.34855680853418, inf]"
            ]
          },
          "metadata": {},
          "execution_count": 15
        }
      ]
    },
    {
      "cell_type": "markdown",
      "metadata": {
        "id": "-4ntdVf2j24K"
      },
      "source": [
        "#### Add-alpha smoothing\n",
        "Code for sub-part (d)\n",
        "\n",
        "Use the basicTokenize function and bigram language model ($n = 2$) with smoothing for this question.\n",
        "\n",
        "Implement Laplace (add-$\\alpha$) smoothing within the appropriate function provided (computeBigramAddAlpha in LanguageModel class) and train model with add-alpha smoothing on the whole train set for different alpha values $[10^{-5},10^{-4},10^{-3},10^{-2},10^{-1},1,1.5,2]$.  "
      ]
    },
    {
      "cell_type": "code",
      "metadata": {
        "id": "hmMeDg-lkQkC",
        "colab": {
          "base_uri": "https://localhost:8080/"
        },
        "outputId": "27a5f2ef-fe06-4b1a-9253-1ec591e772c4"
      },
      "source": [
        "### For different values of alpha train bigram language model with smoothing on the whole train corpus (train fraction = 1)\n",
        "### and evaluate perplexity on both the training and the validation corpus\n",
        "### Plot the perplexity on train and validation sets as a function of alpha.\n",
        "### Values of alpha specified above\n",
        "\n",
        "\n",
        "print(\"Parameter = 10^-5\")\n",
        "runLanguageModel(train_corpus_nltk, val_corpus_nltk, train_fraction = 1, tokenizer = nltk_tokenizer, smoothing_type='addAlpha', smoothing_param=0.00001)\n",
        "\n",
        "print(\"Parameter = 10^-4\")\n",
        "runLanguageModel(train_corpus_nltk, val_corpus_nltk, train_fraction = 1, tokenizer = nltk_tokenizer, smoothing_type='addAlpha', smoothing_param=0.0001)\n",
        "\n",
        "print(\"Parameter = 10^-3\")\n",
        "runLanguageModel(train_corpus_nltk, val_corpus_nltk, train_fraction = 1, tokenizer = nltk_tokenizer, smoothing_type='addAlpha', smoothing_param=0.001)\n",
        "\n",
        "print(\"Parameter = 10^-2\")\n",
        "runLanguageModel(train_corpus_nltk, val_corpus_nltk, train_fraction = 1, tokenizer = nltk_tokenizer, smoothing_type='addAlpha', smoothing_param=0.01)\n",
        "\n",
        "print(\"Parameter = 10^-1\")\n",
        "runLanguageModel(train_corpus_nltk, val_corpus_nltk, train_fraction = 1, tokenizer = nltk_tokenizer, smoothing_type='addAlpha', smoothing_param=0.1)\n",
        "\n",
        "print(\"Parameter = 1\")\n",
        "runLanguageModel(train_corpus_nltk, val_corpus_nltk, train_fraction = 1, tokenizer = nltk_tokenizer, smoothing_type='addAlpha', smoothing_param=1)\n",
        "\n",
        "print(\"Parameter = 1.5\")\n",
        "runLanguageModel(train_corpus_nltk, val_corpus_nltk, train_fraction = 1, tokenizer = nltk_tokenizer, smoothing_type='addAlpha', smoothing_param=1.5)\n",
        "\n",
        "print(\"Parameter = 2\")\n",
        "runLanguageModel(train_corpus_nltk, val_corpus_nltk, train_fraction = 1, tokenizer = nltk_tokenizer, smoothing_type='addAlpha', smoothing_param=2)\n"
      ],
      "execution_count": null,
      "outputs": [
        {
          "output_type": "stream",
          "name": "stdout",
          "text": [
            "Parameter = 10^-5\n"
          ]
        },
        {
          "output_type": "stream",
          "name": "stderr",
          "text": [
            "Counting: 100%|██████████| 700042/700042 [00:00<00:00, 870526.15it/s]\n",
            "Estimating bigram probabilities: 100%|██████████| 14880/14880 [00:00<00:00, 20806.85it/s]\n",
            "Evaluating: 100%|██████████| 700042/700042 [00:01<00:00, 445176.26it/s]\n",
            "Evaluating: 100%|██████████| 175232/175232 [00:00<00:00, 462513.36it/s]\n"
          ]
        },
        {
          "output_type": "stream",
          "name": "stdout",
          "text": [
            "Train perplexity: 70.561778, Val Perplexity: 1623.907183\n",
            "Parameter = 10^-4\n"
          ]
        },
        {
          "output_type": "stream",
          "name": "stderr",
          "text": [
            "Counting: 100%|██████████| 700042/700042 [00:00<00:00, 824754.11it/s]\n",
            "Estimating bigram probabilities: 100%|██████████| 14880/14880 [00:00<00:00, 21315.24it/s]\n",
            "Evaluating: 100%|██████████| 700042/700042 [00:01<00:00, 445125.98it/s]\n",
            "Evaluating: 100%|██████████| 175232/175232 [00:00<00:00, 416701.65it/s]\n"
          ]
        },
        {
          "output_type": "stream",
          "name": "stdout",
          "text": [
            "Train perplexity: 72.287369, Val Perplexity: 939.249112\n",
            "Parameter = 10^-3\n"
          ]
        },
        {
          "output_type": "stream",
          "name": "stderr",
          "text": [
            "Counting: 100%|██████████| 700042/700042 [00:00<00:00, 845036.68it/s]\n",
            "Estimating bigram probabilities: 100%|██████████| 14880/14880 [00:00<00:00, 21334.55it/s]\n",
            "Evaluating: 100%|██████████| 700042/700042 [00:01<00:00, 445498.52it/s]\n",
            "Evaluating: 100%|██████████| 175232/175232 [00:00<00:00, 416121.27it/s]\n"
          ]
        },
        {
          "output_type": "stream",
          "name": "stdout",
          "text": [
            "Train perplexity: 83.394263, Val Perplexity: 614.213532\n",
            "Parameter = 10^-2\n"
          ]
        },
        {
          "output_type": "stream",
          "name": "stderr",
          "text": [
            "Counting: 100%|██████████| 700042/700042 [00:00<00:00, 875613.60it/s]\n",
            "Estimating bigram probabilities: 100%|██████████| 14880/14880 [00:00<00:00, 21667.56it/s]\n",
            "Evaluating: 100%|██████████| 700042/700042 [00:01<00:00, 439424.46it/s]\n",
            "Evaluating: 100%|██████████| 175232/175232 [00:00<00:00, 437346.87it/s]\n"
          ]
        },
        {
          "output_type": "stream",
          "name": "stdout",
          "text": [
            "Train perplexity: 131.878479, Val Perplexity: 542.582409\n",
            "Parameter = 10^-1\n"
          ]
        },
        {
          "output_type": "stream",
          "name": "stderr",
          "text": [
            "Counting: 100%|██████████| 700042/700042 [00:00<00:00, 863436.93it/s]\n",
            "Estimating bigram probabilities: 100%|██████████| 14880/14880 [00:00<00:00, 21594.97it/s]\n",
            "Evaluating: 100%|██████████| 700042/700042 [00:01<00:00, 441271.66it/s]\n",
            "Evaluating: 100%|██████████| 175232/175232 [00:00<00:00, 438644.63it/s]\n"
          ]
        },
        {
          "output_type": "stream",
          "name": "stdout",
          "text": [
            "Train perplexity: 319.847737, Val Perplexity: 733.307078\n",
            "Parameter = 1\n"
          ]
        },
        {
          "output_type": "stream",
          "name": "stderr",
          "text": [
            "Counting: 100%|██████████| 700042/700042 [00:00<00:00, 857613.23it/s]\n",
            "Estimating bigram probabilities: 100%|██████████| 14880/14880 [00:00<00:00, 20488.62it/s]\n",
            "Evaluating: 100%|██████████| 700042/700042 [00:01<00:00, 441200.51it/s]\n",
            "Evaluating: 100%|██████████| 175232/175232 [00:00<00:00, 444046.40it/s]\n"
          ]
        },
        {
          "output_type": "stream",
          "name": "stdout",
          "text": [
            "Train perplexity: 1070.802723, Val Perplexity: 1499.772976\n",
            "Parameter = 1.5\n"
          ]
        },
        {
          "output_type": "stream",
          "name": "stderr",
          "text": [
            "Counting: 100%|██████████| 700042/700042 [00:00<00:00, 884657.26it/s]\n",
            "Estimating bigram probabilities: 100%|██████████| 14880/14880 [00:00<00:00, 21732.72it/s]\n",
            "Evaluating: 100%|██████████| 700042/700042 [00:01<00:00, 445340.34it/s]\n",
            "Evaluating: 100%|██████████| 175232/175232 [00:00<00:00, 438716.64it/s]\n"
          ]
        },
        {
          "output_type": "stream",
          "name": "stdout",
          "text": [
            "Train perplexity: 1336.011470, Val Perplexity: 1756.969971\n",
            "Parameter = 2\n"
          ]
        },
        {
          "output_type": "stream",
          "name": "stderr",
          "text": [
            "Counting: 100%|██████████| 700042/700042 [00:00<00:00, 830400.71it/s]\n",
            "Estimating bigram probabilities: 100%|██████████| 14880/14880 [00:00<00:00, 20979.20it/s]\n",
            "Evaluating: 100%|██████████| 700042/700042 [00:01<00:00, 442151.85it/s]\n",
            "Evaluating: 100%|██████████| 175232/175232 [00:00<00:00, 426011.46it/s]"
          ]
        },
        {
          "output_type": "stream",
          "name": "stdout",
          "text": [
            "Train perplexity: 1559.949976, Val Perplexity: 1972.551353\n"
          ]
        },
        {
          "output_type": "stream",
          "name": "stderr",
          "text": [
            "\n"
          ]
        },
        {
          "output_type": "execute_result",
          "data": {
            "text/plain": [
              "[1559.9499757369956, 1972.5513534864501]"
            ]
          },
          "metadata": {},
          "execution_count": 16
        }
      ]
    }
  ]
}